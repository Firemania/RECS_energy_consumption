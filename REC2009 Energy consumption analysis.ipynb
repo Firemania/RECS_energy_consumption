{
 "cells": [
  {
   "cell_type": "markdown",
   "metadata": {},
   "source": [
    "# Residential energy consumption analysis in US in 2009\n",
    "\n",
    "Data set comes from https://www.eia.gov/consumption/residential/data/2009/index.php?view=microdata\n",
    "\n",
    "The data set has 12,083 samples, with 940 columns. Columns giving energy consumption information starts from the column KWH, which represent \"Total Site Electricity usage, in kilowatt-hours\". Lets first predict this variable.\n",
    "\n",
    "Among all the 838 features (excluding house id), i.e. house location, size, household income, etc., some are categorical variables, while some are not. Detailed information is documented in \"public_layout.csv\" and \"recs2009_public_codebook.xlsx\"."
   ]
  },
  {
   "cell_type": "code",
   "execution_count": 2,
   "metadata": {
    "collapsed": true
   },
   "outputs": [],
   "source": [
    "import numpy as np\n",
    "import pandas as pd\n",
    "import matplotlib.pyplot as plt"
   ]
  },
  {
   "cell_type": "code",
   "execution_count": 3,
   "metadata": {},
   "outputs": [
    {
     "name": "stderr",
     "output_type": "stream",
     "text": [
      "C:\\Users\\Xu\\Anaconda3\\lib\\site-packages\\IPython\\core\\interactiveshell.py:2698: DtypeWarning: Columns (717,718) have mixed types. Specify dtype option on import or set low_memory=False.\n",
      "  interactivity=interactivity, compiler=compiler, result=result)\n"
     ]
    }
   ],
   "source": [
    "data0=pd.read_csv(\"recs2009_public.csv\")"
   ]
  },
  {
   "cell_type": "code",
   "execution_count": 4,
   "metadata": {},
   "outputs": [
    {
     "data": {
      "text/plain": [
       "DOEID                   int64\n",
       "REGIONC                 int64\n",
       "DIVISION                int64\n",
       "REPORTABLE_DOMAIN       int64\n",
       "TYPEHUQ                 int64\n",
       "NWEIGHT               float64\n",
       "HDD65                   int64\n",
       "CDD65                   int64\n",
       "HDD30YR                 int64\n",
       "CDD30YR                 int64\n",
       "Climate_Region_Pub      int64\n",
       "AIA_Zone                int64\n",
       "METROMICRO             object\n",
       "UR                     object\n",
       "KOWNRENT                int64\n",
       "CONDCOOP                int64\n",
       "YEARMADE                int64\n",
       "YEARMADERANGE           int64\n",
       "OCCUPYYRANGE            int64\n",
       "CONVERSION              int64\n",
       "ORIG1FAM                int64\n",
       "LOOKLIKE                int64\n",
       "NUMFLRS                 int64\n",
       "NUMAPTS                 int64\n",
       "WALLTYPE                int64\n",
       "ROOFTYPE                int64\n",
       "STUDIO                  int64\n",
       "NAPTFLRS                int64\n",
       "STORIES                 int64\n",
       "TYPEHUQ4                int64\n",
       "                       ...   \n",
       "TOTALBTUWTH             int64\n",
       "TOTALBTURFG             int64\n",
       "TOTALBTUOTH             int64\n",
       "TOTALDOL                int64\n",
       "TOTALDOLSPH             int64\n",
       "TOTALDOLCOL             int64\n",
       "TOTALDOLWTH             int64\n",
       "TOTALDOLRFG             int64\n",
       "TOTALDOLOTH             int64\n",
       "KAVALEL                 int64\n",
       "PERIODEL                int64\n",
       "SCALEEL                 int64\n",
       "KAVALNG                 int64\n",
       "PERIODNG                int64\n",
       "SCALENG                 int64\n",
       "PERIODLP                int64\n",
       "SCALELP                 int64\n",
       "PERIODFO                int64\n",
       "SCALEFO                 int64\n",
       "PERIODKR                int64\n",
       "SCALEKER                int64\n",
       "IECC_Climate_Pub       object\n",
       "HDD50                   int64\n",
       "CDD80                   int64\n",
       "GND_HDD65               int64\n",
       "WSF                   float64\n",
       "OA_LAT                  int64\n",
       "GWT                     int64\n",
       "DesignDBT99             int64\n",
       "DesignDBT1              int64\n",
       "Length: 940, dtype: object"
      ]
     },
     "execution_count": 4,
     "metadata": {},
     "output_type": "execute_result"
    }
   ],
   "source": [
    "data0.dtypes"
   ]
  },
  {
   "cell_type": "code",
   "execution_count": 5,
   "metadata": {
    "collapsed": true
   },
   "outputs": [],
   "source": [
    "k=data0.dtypes=='O'\n"
   ]
  },
  {
   "cell_type": "code",
   "execution_count": 6,
   "metadata": {},
   "outputs": [
    {
     "name": "stdout",
     "output_type": "stream",
     "text": [
      "Index(['METROMICRO', 'UR', 'NOCRCASH', 'NKRGALNC', 'IECC_Climate_Pub'], dtype='object')\n"
     ]
    }
   ],
   "source": [
    "object_columns_ind=k[k==True].index\n",
    "print(object_columns_ind)"
   ]
  },
  {
   "cell_type": "code",
   "execution_count": 7,
   "metadata": {},
   "outputs": [
    {
     "data": {
      "text/html": [
       "<div>\n",
       "<style scoped>\n",
       "    .dataframe tbody tr th:only-of-type {\n",
       "        vertical-align: middle;\n",
       "    }\n",
       "\n",
       "    .dataframe tbody tr th {\n",
       "        vertical-align: top;\n",
       "    }\n",
       "\n",
       "    .dataframe thead th {\n",
       "        text-align: right;\n",
       "    }\n",
       "</style>\n",
       "<table border=\"1\" class=\"dataframe\">\n",
       "  <thead>\n",
       "    <tr style=\"text-align: right;\">\n",
       "      <th></th>\n",
       "      <th>METROMICRO</th>\n",
       "      <th>UR</th>\n",
       "      <th>NOCRCASH</th>\n",
       "      <th>NKRGALNC</th>\n",
       "      <th>IECC_Climate_Pub</th>\n",
       "    </tr>\n",
       "  </thead>\n",
       "  <tbody>\n",
       "    <tr>\n",
       "      <th>0</th>\n",
       "      <td>METRO</td>\n",
       "      <td>U</td>\n",
       "      <td>-2</td>\n",
       "      <td>-2</td>\n",
       "      <td>4A</td>\n",
       "    </tr>\n",
       "    <tr>\n",
       "      <th>1</th>\n",
       "      <td>METRO</td>\n",
       "      <td>U</td>\n",
       "      <td>-2</td>\n",
       "      <td>-2</td>\n",
       "      <td>3C</td>\n",
       "    </tr>\n",
       "    <tr>\n",
       "      <th>2</th>\n",
       "      <td>METRO</td>\n",
       "      <td>U</td>\n",
       "      <td>-2</td>\n",
       "      <td>-2</td>\n",
       "      <td>5A</td>\n",
       "    </tr>\n",
       "    <tr>\n",
       "      <th>3</th>\n",
       "      <td>METRO</td>\n",
       "      <td>U</td>\n",
       "      <td>-2</td>\n",
       "      <td>-2</td>\n",
       "      <td>5A</td>\n",
       "    </tr>\n",
       "    <tr>\n",
       "      <th>4</th>\n",
       "      <td>METRO</td>\n",
       "      <td>U</td>\n",
       "      <td>-2</td>\n",
       "      <td>-2</td>\n",
       "      <td>5A</td>\n",
       "    </tr>\n",
       "    <tr>\n",
       "      <th>5</th>\n",
       "      <td>METRO</td>\n",
       "      <td>U</td>\n",
       "      <td>-2</td>\n",
       "      <td>-2</td>\n",
       "      <td>6A-6B</td>\n",
       "    </tr>\n",
       "    <tr>\n",
       "      <th>6</th>\n",
       "      <td>METRO</td>\n",
       "      <td>U</td>\n",
       "      <td>-2</td>\n",
       "      <td>-2</td>\n",
       "      <td>4A</td>\n",
       "    </tr>\n",
       "    <tr>\n",
       "      <th>7</th>\n",
       "      <td>METRO</td>\n",
       "      <td>U</td>\n",
       "      <td>-2</td>\n",
       "      <td>-2</td>\n",
       "      <td>1A-2A</td>\n",
       "    </tr>\n",
       "    <tr>\n",
       "      <th>8</th>\n",
       "      <td>METRO</td>\n",
       "      <td>U</td>\n",
       "      <td>-2</td>\n",
       "      <td>-2</td>\n",
       "      <td>4A</td>\n",
       "    </tr>\n",
       "    <tr>\n",
       "      <th>9</th>\n",
       "      <td>METRO</td>\n",
       "      <td>U</td>\n",
       "      <td>-2</td>\n",
       "      <td>-2</td>\n",
       "      <td>4A</td>\n",
       "    </tr>\n",
       "    <tr>\n",
       "      <th>10</th>\n",
       "      <td>METRO</td>\n",
       "      <td>U</td>\n",
       "      <td>-2</td>\n",
       "      <td>-2</td>\n",
       "      <td>3B-4B</td>\n",
       "    </tr>\n",
       "    <tr>\n",
       "      <th>11</th>\n",
       "      <td>METRO</td>\n",
       "      <td>U</td>\n",
       "      <td>-2</td>\n",
       "      <td>-2</td>\n",
       "      <td>4A</td>\n",
       "    </tr>\n",
       "    <tr>\n",
       "      <th>12</th>\n",
       "      <td>METRO</td>\n",
       "      <td>U</td>\n",
       "      <td>-2</td>\n",
       "      <td>-2</td>\n",
       "      <td>1A-2A</td>\n",
       "    </tr>\n",
       "    <tr>\n",
       "      <th>13</th>\n",
       "      <td>METRO</td>\n",
       "      <td>U</td>\n",
       "      <td>-2</td>\n",
       "      <td>-2</td>\n",
       "      <td>3A</td>\n",
       "    </tr>\n",
       "    <tr>\n",
       "      <th>14</th>\n",
       "      <td>METRO</td>\n",
       "      <td>U</td>\n",
       "      <td>-2</td>\n",
       "      <td>-2</td>\n",
       "      <td>5B-5C</td>\n",
       "    </tr>\n",
       "    <tr>\n",
       "      <th>15</th>\n",
       "      <td>METRO</td>\n",
       "      <td>U</td>\n",
       "      <td>-2</td>\n",
       "      <td>-2</td>\n",
       "      <td>4A</td>\n",
       "    </tr>\n",
       "    <tr>\n",
       "      <th>16</th>\n",
       "      <td>MICRO</td>\n",
       "      <td>R</td>\n",
       "      <td>-2</td>\n",
       "      <td>-2</td>\n",
       "      <td>3A</td>\n",
       "    </tr>\n",
       "    <tr>\n",
       "      <th>17</th>\n",
       "      <td>METRO</td>\n",
       "      <td>U</td>\n",
       "      <td>-2</td>\n",
       "      <td>-2</td>\n",
       "      <td>4A</td>\n",
       "    </tr>\n",
       "    <tr>\n",
       "      <th>18</th>\n",
       "      <td>METRO</td>\n",
       "      <td>U</td>\n",
       "      <td>-2</td>\n",
       "      <td>-2</td>\n",
       "      <td>5B-5C</td>\n",
       "    </tr>\n",
       "    <tr>\n",
       "      <th>19</th>\n",
       "      <td>METRO</td>\n",
       "      <td>U</td>\n",
       "      <td>-2</td>\n",
       "      <td>-2</td>\n",
       "      <td>6A-6B</td>\n",
       "    </tr>\n",
       "    <tr>\n",
       "      <th>20</th>\n",
       "      <td>METRO</td>\n",
       "      <td>U</td>\n",
       "      <td>-2</td>\n",
       "      <td>-2</td>\n",
       "      <td>3B-4B</td>\n",
       "    </tr>\n",
       "    <tr>\n",
       "      <th>21</th>\n",
       "      <td>METRO</td>\n",
       "      <td>U</td>\n",
       "      <td>-2</td>\n",
       "      <td>-2</td>\n",
       "      <td>5A</td>\n",
       "    </tr>\n",
       "    <tr>\n",
       "      <th>22</th>\n",
       "      <td>METRO</td>\n",
       "      <td>U</td>\n",
       "      <td>-2</td>\n",
       "      <td>-2</td>\n",
       "      <td>4A</td>\n",
       "    </tr>\n",
       "    <tr>\n",
       "      <th>23</th>\n",
       "      <td>METRO</td>\n",
       "      <td>R</td>\n",
       "      <td>-2</td>\n",
       "      <td>-2</td>\n",
       "      <td>1A-2A</td>\n",
       "    </tr>\n",
       "    <tr>\n",
       "      <th>24</th>\n",
       "      <td>METRO</td>\n",
       "      <td>U</td>\n",
       "      <td>-2</td>\n",
       "      <td>-2</td>\n",
       "      <td>6A-6B</td>\n",
       "    </tr>\n",
       "    <tr>\n",
       "      <th>25</th>\n",
       "      <td>METRO</td>\n",
       "      <td>U</td>\n",
       "      <td>-2</td>\n",
       "      <td>-2</td>\n",
       "      <td>5A</td>\n",
       "    </tr>\n",
       "    <tr>\n",
       "      <th>26</th>\n",
       "      <td>METRO</td>\n",
       "      <td>R</td>\n",
       "      <td>-2</td>\n",
       "      <td>-2</td>\n",
       "      <td>6A-6B</td>\n",
       "    </tr>\n",
       "    <tr>\n",
       "      <th>27</th>\n",
       "      <td>METRO</td>\n",
       "      <td>U</td>\n",
       "      <td>-2</td>\n",
       "      <td>-2</td>\n",
       "      <td>3B-4B</td>\n",
       "    </tr>\n",
       "    <tr>\n",
       "      <th>28</th>\n",
       "      <td>METRO</td>\n",
       "      <td>U</td>\n",
       "      <td>-2</td>\n",
       "      <td>-2</td>\n",
       "      <td>1A-2A</td>\n",
       "    </tr>\n",
       "    <tr>\n",
       "      <th>29</th>\n",
       "      <td>METRO</td>\n",
       "      <td>U</td>\n",
       "      <td>-2</td>\n",
       "      <td>-2</td>\n",
       "      <td>1A-2A</td>\n",
       "    </tr>\n",
       "    <tr>\n",
       "      <th>...</th>\n",
       "      <td>...</td>\n",
       "      <td>...</td>\n",
       "      <td>...</td>\n",
       "      <td>...</td>\n",
       "      <td>...</td>\n",
       "    </tr>\n",
       "    <tr>\n",
       "      <th>12053</th>\n",
       "      <td>METRO</td>\n",
       "      <td>U</td>\n",
       "      <td>-2</td>\n",
       "      <td>-2</td>\n",
       "      <td>4A</td>\n",
       "    </tr>\n",
       "    <tr>\n",
       "      <th>12054</th>\n",
       "      <td>METRO</td>\n",
       "      <td>U</td>\n",
       "      <td>-2</td>\n",
       "      <td>-2</td>\n",
       "      <td>4A</td>\n",
       "    </tr>\n",
       "    <tr>\n",
       "      <th>12055</th>\n",
       "      <td>METRO</td>\n",
       "      <td>U</td>\n",
       "      <td>-2</td>\n",
       "      <td>-2</td>\n",
       "      <td>3A</td>\n",
       "    </tr>\n",
       "    <tr>\n",
       "      <th>12056</th>\n",
       "      <td>METRO</td>\n",
       "      <td>U</td>\n",
       "      <td>-2</td>\n",
       "      <td>-2</td>\n",
       "      <td>5A</td>\n",
       "    </tr>\n",
       "    <tr>\n",
       "      <th>12057</th>\n",
       "      <td>METRO</td>\n",
       "      <td>U</td>\n",
       "      <td>-2</td>\n",
       "      <td>-2</td>\n",
       "      <td>3A</td>\n",
       "    </tr>\n",
       "    <tr>\n",
       "      <th>12058</th>\n",
       "      <td>METRO</td>\n",
       "      <td>U</td>\n",
       "      <td>-2</td>\n",
       "      <td>-2</td>\n",
       "      <td>3C</td>\n",
       "    </tr>\n",
       "    <tr>\n",
       "      <th>12059</th>\n",
       "      <td>METRO</td>\n",
       "      <td>U</td>\n",
       "      <td>-2</td>\n",
       "      <td>-2</td>\n",
       "      <td>5A</td>\n",
       "    </tr>\n",
       "    <tr>\n",
       "      <th>12060</th>\n",
       "      <td>NONE</td>\n",
       "      <td>R</td>\n",
       "      <td>-2</td>\n",
       "      <td>-2</td>\n",
       "      <td>6A-6B</td>\n",
       "    </tr>\n",
       "    <tr>\n",
       "      <th>12061</th>\n",
       "      <td>NONE</td>\n",
       "      <td>R</td>\n",
       "      <td>-2</td>\n",
       "      <td>-2</td>\n",
       "      <td>6A-6B</td>\n",
       "    </tr>\n",
       "    <tr>\n",
       "      <th>12062</th>\n",
       "      <td>METRO</td>\n",
       "      <td>U</td>\n",
       "      <td>-2</td>\n",
       "      <td>-2</td>\n",
       "      <td>3B-4B</td>\n",
       "    </tr>\n",
       "    <tr>\n",
       "      <th>12063</th>\n",
       "      <td>METRO</td>\n",
       "      <td>R</td>\n",
       "      <td>-2</td>\n",
       "      <td>-2</td>\n",
       "      <td>5A</td>\n",
       "    </tr>\n",
       "    <tr>\n",
       "      <th>12064</th>\n",
       "      <td>METRO</td>\n",
       "      <td>U</td>\n",
       "      <td>-2</td>\n",
       "      <td>-2</td>\n",
       "      <td>5B-5C</td>\n",
       "    </tr>\n",
       "    <tr>\n",
       "      <th>12065</th>\n",
       "      <td>METRO</td>\n",
       "      <td>U</td>\n",
       "      <td>-2</td>\n",
       "      <td>-2</td>\n",
       "      <td>6A-6B</td>\n",
       "    </tr>\n",
       "    <tr>\n",
       "      <th>12066</th>\n",
       "      <td>METRO</td>\n",
       "      <td>U</td>\n",
       "      <td>-2</td>\n",
       "      <td>-2</td>\n",
       "      <td>3C</td>\n",
       "    </tr>\n",
       "    <tr>\n",
       "      <th>12067</th>\n",
       "      <td>METRO</td>\n",
       "      <td>U</td>\n",
       "      <td>-2</td>\n",
       "      <td>-2</td>\n",
       "      <td>5A</td>\n",
       "    </tr>\n",
       "    <tr>\n",
       "      <th>12068</th>\n",
       "      <td>METRO</td>\n",
       "      <td>U</td>\n",
       "      <td>-2</td>\n",
       "      <td>-2</td>\n",
       "      <td>4A</td>\n",
       "    </tr>\n",
       "    <tr>\n",
       "      <th>12069</th>\n",
       "      <td>METRO</td>\n",
       "      <td>R</td>\n",
       "      <td>-2</td>\n",
       "      <td>-2</td>\n",
       "      <td>6A-6B</td>\n",
       "    </tr>\n",
       "    <tr>\n",
       "      <th>12070</th>\n",
       "      <td>METRO</td>\n",
       "      <td>U</td>\n",
       "      <td>-2</td>\n",
       "      <td>-2</td>\n",
       "      <td>3B-4B</td>\n",
       "    </tr>\n",
       "    <tr>\n",
       "      <th>12071</th>\n",
       "      <td>METRO</td>\n",
       "      <td>U</td>\n",
       "      <td>-2</td>\n",
       "      <td>-2</td>\n",
       "      <td>4A</td>\n",
       "    </tr>\n",
       "    <tr>\n",
       "      <th>12072</th>\n",
       "      <td>METRO</td>\n",
       "      <td>U</td>\n",
       "      <td>-2</td>\n",
       "      <td>-2</td>\n",
       "      <td>3C</td>\n",
       "    </tr>\n",
       "    <tr>\n",
       "      <th>12073</th>\n",
       "      <td>METRO</td>\n",
       "      <td>R</td>\n",
       "      <td>-2</td>\n",
       "      <td>-2</td>\n",
       "      <td>3A</td>\n",
       "    </tr>\n",
       "    <tr>\n",
       "      <th>12074</th>\n",
       "      <td>MICRO</td>\n",
       "      <td>R</td>\n",
       "      <td>-2</td>\n",
       "      <td>-2</td>\n",
       "      <td>4A</td>\n",
       "    </tr>\n",
       "    <tr>\n",
       "      <th>12075</th>\n",
       "      <td>METRO</td>\n",
       "      <td>R</td>\n",
       "      <td>-2</td>\n",
       "      <td>-2</td>\n",
       "      <td>4A</td>\n",
       "    </tr>\n",
       "    <tr>\n",
       "      <th>12076</th>\n",
       "      <td>METRO</td>\n",
       "      <td>U</td>\n",
       "      <td>-2</td>\n",
       "      <td>-2</td>\n",
       "      <td>4A</td>\n",
       "    </tr>\n",
       "    <tr>\n",
       "      <th>12077</th>\n",
       "      <td>METRO</td>\n",
       "      <td>R</td>\n",
       "      <td>-2</td>\n",
       "      <td>-2</td>\n",
       "      <td>4A</td>\n",
       "    </tr>\n",
       "    <tr>\n",
       "      <th>12078</th>\n",
       "      <td>METRO</td>\n",
       "      <td>U</td>\n",
       "      <td>-2</td>\n",
       "      <td>-2</td>\n",
       "      <td>6A-6B</td>\n",
       "    </tr>\n",
       "    <tr>\n",
       "      <th>12079</th>\n",
       "      <td>METRO</td>\n",
       "      <td>U</td>\n",
       "      <td>-2</td>\n",
       "      <td>-2</td>\n",
       "      <td>3B-4B</td>\n",
       "    </tr>\n",
       "    <tr>\n",
       "      <th>12080</th>\n",
       "      <td>METRO</td>\n",
       "      <td>U</td>\n",
       "      <td>-2</td>\n",
       "      <td>-2</td>\n",
       "      <td>6A-6B</td>\n",
       "    </tr>\n",
       "    <tr>\n",
       "      <th>12081</th>\n",
       "      <td>METRO</td>\n",
       "      <td>U</td>\n",
       "      <td>-2</td>\n",
       "      <td>-2</td>\n",
       "      <td>5B-5C</td>\n",
       "    </tr>\n",
       "    <tr>\n",
       "      <th>12082</th>\n",
       "      <td>METRO</td>\n",
       "      <td>U</td>\n",
       "      <td>-2</td>\n",
       "      <td>-2</td>\n",
       "      <td>3C</td>\n",
       "    </tr>\n",
       "  </tbody>\n",
       "</table>\n",
       "<p>12083 rows × 5 columns</p>\n",
       "</div>"
      ],
      "text/plain": [
       "      METROMICRO UR NOCRCASH NKRGALNC IECC_Climate_Pub\n",
       "0          METRO  U       -2       -2               4A\n",
       "1          METRO  U       -2       -2               3C\n",
       "2          METRO  U       -2       -2               5A\n",
       "3          METRO  U       -2       -2               5A\n",
       "4          METRO  U       -2       -2               5A\n",
       "5          METRO  U       -2       -2            6A-6B\n",
       "6          METRO  U       -2       -2               4A\n",
       "7          METRO  U       -2       -2            1A-2A\n",
       "8          METRO  U       -2       -2               4A\n",
       "9          METRO  U       -2       -2               4A\n",
       "10         METRO  U       -2       -2            3B-4B\n",
       "11         METRO  U       -2       -2               4A\n",
       "12         METRO  U       -2       -2            1A-2A\n",
       "13         METRO  U       -2       -2               3A\n",
       "14         METRO  U       -2       -2            5B-5C\n",
       "15         METRO  U       -2       -2               4A\n",
       "16         MICRO  R       -2       -2               3A\n",
       "17         METRO  U       -2       -2               4A\n",
       "18         METRO  U       -2       -2            5B-5C\n",
       "19         METRO  U       -2       -2            6A-6B\n",
       "20         METRO  U       -2       -2            3B-4B\n",
       "21         METRO  U       -2       -2               5A\n",
       "22         METRO  U       -2       -2               4A\n",
       "23         METRO  R       -2       -2            1A-2A\n",
       "24         METRO  U       -2       -2            6A-6B\n",
       "25         METRO  U       -2       -2               5A\n",
       "26         METRO  R       -2       -2            6A-6B\n",
       "27         METRO  U       -2       -2            3B-4B\n",
       "28         METRO  U       -2       -2            1A-2A\n",
       "29         METRO  U       -2       -2            1A-2A\n",
       "...          ... ..      ...      ...              ...\n",
       "12053      METRO  U       -2       -2               4A\n",
       "12054      METRO  U       -2       -2               4A\n",
       "12055      METRO  U       -2       -2               3A\n",
       "12056      METRO  U       -2       -2               5A\n",
       "12057      METRO  U       -2       -2               3A\n",
       "12058      METRO  U       -2       -2               3C\n",
       "12059      METRO  U       -2       -2               5A\n",
       "12060       NONE  R       -2       -2            6A-6B\n",
       "12061       NONE  R       -2       -2            6A-6B\n",
       "12062      METRO  U       -2       -2            3B-4B\n",
       "12063      METRO  R       -2       -2               5A\n",
       "12064      METRO  U       -2       -2            5B-5C\n",
       "12065      METRO  U       -2       -2            6A-6B\n",
       "12066      METRO  U       -2       -2               3C\n",
       "12067      METRO  U       -2       -2               5A\n",
       "12068      METRO  U       -2       -2               4A\n",
       "12069      METRO  R       -2       -2            6A-6B\n",
       "12070      METRO  U       -2       -2            3B-4B\n",
       "12071      METRO  U       -2       -2               4A\n",
       "12072      METRO  U       -2       -2               3C\n",
       "12073      METRO  R       -2       -2               3A\n",
       "12074      MICRO  R       -2       -2               4A\n",
       "12075      METRO  R       -2       -2               4A\n",
       "12076      METRO  U       -2       -2               4A\n",
       "12077      METRO  R       -2       -2               4A\n",
       "12078      METRO  U       -2       -2            6A-6B\n",
       "12079      METRO  U       -2       -2            3B-4B\n",
       "12080      METRO  U       -2       -2            6A-6B\n",
       "12081      METRO  U       -2       -2            5B-5C\n",
       "12082      METRO  U       -2       -2               3C\n",
       "\n",
       "[12083 rows x 5 columns]"
      ]
     },
     "execution_count": 7,
     "metadata": {},
     "output_type": "execute_result"
    }
   ],
   "source": [
    "data0[object_columns_ind]"
   ]
  },
  {
   "cell_type": "code",
   "execution_count": null,
   "metadata": {
    "collapsed": true
   },
   "outputs": [],
   "source": []
  },
  {
   "cell_type": "code",
   "execution_count": 8,
   "metadata": {},
   "outputs": [
    {
     "name": "stdout",
     "output_type": "stream",
     "text": [
      "METROMICRO has unique values of  ['METRO' 'MICRO' 'NONE']\n",
      "UR has unique values of  ['U' 'R']\n",
      "NOCRCASH has unique values of  [-2 1 6 15 4 '-2' '1' '20' '.' '12' '4' '10' '3' '24' '55' '6' 8 28 5 55 3\n",
      " 16 2 20 10 24 40 12 25]\n",
      "NKRGALNC has unique values of  [-2 1 5 10 '-2' '10' '15' '1' '8' '.' '5' '3' '2' '77' 30 3 15 8 55 2 20]\n",
      "IECC_Climate_Pub has unique values of  ['4A' '3C' '5A' '6A-6B' '1A-2A' '3B-4B' '3A' '5B-5C' '7A-7B-7AK-8AK' '2B'\n",
      " '4C']\n"
     ]
    }
   ],
   "source": [
    "for i in range(len(object_columns_ind)):\n",
    "    print(object_columns_ind[i]+\" has unique values of \",data0[object_columns_ind[i]].unique())"
   ]
  },
  {
   "cell_type": "code",
   "execution_count": 9,
   "metadata": {},
   "outputs": [
    {
     "name": "stderr",
     "output_type": "stream",
     "text": [
      "C:\\Users\\Xu\\Anaconda3\\lib\\site-packages\\ipykernel_launcher.py:1: SettingWithCopyWarning: \n",
      "A value is trying to be set on a copy of a slice from a DataFrame\n",
      "\n",
      "See the caveats in the documentation: http://pandas.pydata.org/pandas-docs/stable/indexing.html#indexing-view-versus-copy\n",
      "  \"\"\"Entry point for launching an IPython kernel.\n",
      "C:\\Users\\Xu\\Anaconda3\\lib\\site-packages\\ipykernel_launcher.py:2: SettingWithCopyWarning: \n",
      "A value is trying to be set on a copy of a slice from a DataFrame\n",
      "\n",
      "See the caveats in the documentation: http://pandas.pydata.org/pandas-docs/stable/indexing.html#indexing-view-versus-copy\n",
      "  \n"
     ]
    }
   ],
   "source": [
    "data0['NOCRCASH'][data0.NOCRCASH=='.']=-2\n",
    "data0['NKRGALNC'][data0.NKRGALNC=='.']=-2"
   ]
  },
  {
   "cell_type": "code",
   "execution_count": 10,
   "metadata": {
    "collapsed": true
   },
   "outputs": [],
   "source": [
    "data0['NOCRCASH']=pd.to_numeric(data0['NOCRCASH'],downcast='integer')\n",
    "data0['NKRGALNC']=pd.to_numeric(data0['NKRGALNC'],downcast='integer')"
   ]
  },
  {
   "cell_type": "code",
   "execution_count": 11,
   "metadata": {},
   "outputs": [
    {
     "data": {
      "text/plain": [
       "array([0, 1], dtype=int64)"
      ]
     },
     "execution_count": 11,
     "metadata": {},
     "output_type": "execute_result"
    }
   ],
   "source": [
    "data0['ZPRKGPLC2'].unique()"
   ]
  },
  {
   "cell_type": "code",
   "execution_count": 12,
   "metadata": {},
   "outputs": [
    {
     "data": {
      "text/plain": [
       "1295     0\n",
       "2774     0\n",
       "2809     0\n",
       "3991     0\n",
       "6839     1\n",
       "7041     0\n",
       "7078     0\n",
       "7253     0\n",
       "8495     0\n",
       "9452     0\n",
       "11552    1\n",
       "Name: PRKGPLC2, dtype: int64"
      ]
     },
     "execution_count": 12,
     "metadata": {},
     "output_type": "execute_result"
    }
   ],
   "source": [
    "data0['PRKGPLC2'][data0['ZPRKGPLC2']==1]"
   ]
  },
  {
   "cell_type": "markdown",
   "metadata": {},
   "source": [
    "Not sure what is the difference between \"imputed\" and not \"imputed\" in this case. But lets just ignore our ignorance on this.\n",
    "\n",
    "Below are the type of columns that represent imputations of other features. We will keep these features and possibly remove them in future."
   ]
  },
  {
   "cell_type": "code",
   "execution_count": null,
   "metadata": {
    "collapsed": true
   },
   "outputs": [],
   "source": []
  },
  {
   "cell_type": "code",
   "execution_count": 13,
   "metadata": {},
   "outputs": [
    {
     "data": {
      "text/plain": [
       "Index(['ZHHSEX', 'ZHHAGE', 'ZEMPLOYHH', 'ZSPOUSE', 'ZSDESCENT',\n",
       "       'ZHouseholder_Race', 'ZEDUCATION', 'ZNHSLDMEM', 'ZAGEHHMEMCAT2',\n",
       "       'ZAGEHHMEMCAT3', 'ZAGEHHMEMCAT4', 'ZAGEHHMEMCAT5', 'ZAGEHHMEMCAT6',\n",
       "       'ZAGEHHMEMCAT7', 'ZAGEHHMEMCAT8', 'ZAGEHHMEMCAT9', 'ZAGEHHMEMCAT10',\n",
       "       'ZAGEHHMEMCAT11', 'ZAGEHHMEMCAT12', 'ZAGEHHMEMCAT13', 'ZAGEHHMEMCAT14',\n",
       "       'ZHBUSNESS', 'ZATHOME', 'ZTELLWORK', 'ZTELLDAYS', 'ZOTHWORK',\n",
       "       'ZWORKPAY', 'ZRETIREPY', 'ZSSINCOME', 'ZCASHBEN', 'ZINVESTMT',\n",
       "       'ZRGLRPAY', 'ZMONEYPY', 'ZHUPROJ', 'ZRENTHELP', 'ZFOODASST'],\n",
       "      dtype='object')"
      ]
     },
     "execution_count": 13,
     "metadata": {},
     "output_type": "execute_result"
    }
   ],
   "source": [
    "data0.columns[791:827]"
   ]
  },
  {
   "cell_type": "code",
   "execution_count": null,
   "metadata": {
    "collapsed": true
   },
   "outputs": [],
   "source": []
  },
  {
   "cell_type": "code",
   "execution_count": 14,
   "metadata": {},
   "outputs": [
    {
     "data": {
      "text/plain": [
       "Index(['ZTOTSQFT', 'ZTOTSQFT_EN', 'ZTOTHSQFT', 'ZTOTUSQFT', 'ZTOTCSQFT',\n",
       "       'ZTOTUCSQFT'],\n",
       "      dtype='object')"
      ]
     },
     "execution_count": 14,
     "metadata": {},
     "output_type": "execute_result"
    }
   ],
   "source": [
    "data0.columns[833:839]"
   ]
  },
  {
   "cell_type": "code",
   "execution_count": null,
   "metadata": {
    "collapsed": true
   },
   "outputs": [],
   "source": []
  },
  {
   "cell_type": "code",
   "execution_count": 15,
   "metadata": {},
   "outputs": [
    {
     "data": {
      "text/plain": [
       "array([0, 1, 2], dtype=int64)"
      ]
     },
     "execution_count": 15,
     "metadata": {},
     "output_type": "execute_result"
    }
   ],
   "source": [
    "from sklearn import preprocessing\n",
    "le1=preprocessing.LabelEncoder()\n",
    "le1.fit(data0['METROMICRO'])\n",
    "data0['METROMICRO']=le1.transform(data0['METROMICRO'])\n",
    "data0['METROMICRO'].unique()"
   ]
  },
  {
   "cell_type": "code",
   "execution_count": 16,
   "metadata": {},
   "outputs": [
    {
     "data": {
      "text/plain": [
       "array([1, 0], dtype=int64)"
      ]
     },
     "execution_count": 16,
     "metadata": {},
     "output_type": "execute_result"
    }
   ],
   "source": [
    "le2=preprocessing.LabelEncoder()\n",
    "le2.fit(data0['UR'])\n",
    "data0['UR']=le2.transform(data0['UR'])\n",
    "data0['UR'].unique()"
   ]
  },
  {
   "cell_type": "code",
   "execution_count": 17,
   "metadata": {},
   "outputs": [
    {
     "data": {
      "text/plain": [
       "array([ 5,  4,  7,  9,  0,  3,  2,  8, 10,  1,  6], dtype=int64)"
      ]
     },
     "execution_count": 17,
     "metadata": {},
     "output_type": "execute_result"
    }
   ],
   "source": [
    "le3=preprocessing.LabelEncoder()\n",
    "le3.fit(data0['IECC_Climate_Pub'])\n",
    "data0['IECC_Climate_Pub']=le3.transform(data0['IECC_Climate_Pub'])\n",
    "data0['IECC_Climate_Pub'].unique()"
   ]
  },
  {
   "cell_type": "markdown",
   "metadata": {},
   "source": [
    "Outputs extraction:"
   ]
  },
  {
   "cell_type": "code",
   "execution_count": 18,
   "metadata": {},
   "outputs": [
    {
     "name": "stderr",
     "output_type": "stream",
     "text": [
      "C:\\Users\\Xu\\Anaconda3\\lib\\site-packages\\sklearn\\cross_validation.py:41: DeprecationWarning: This module was deprecated in version 0.18 in favor of the model_selection module into which all the refactored classes and functions are moved. Also note that the interface of the new CV iterators are different from that of this module. This module will be removed in 0.20.\n",
      "  \"This module will be removed in 0.20.\", DeprecationWarning)\n"
     ]
    }
   ],
   "source": [
    "Y=data0[data0.columns[839:919]]\n",
    "X=data0.drop(data0.columns[839:919], axis=1)\n",
    "X=X.drop(data0.columns[0],axis=1)\n",
    "\n",
    "X=X.drop()\n",
    "\n",
    "from sklearn.cross_validation import train_test_split\n",
    "\n",
    "x_train, x_test, y_train, y_test = train_test_split(X, Y, test_size=0.1, random_state=2)"
   ]
  },
  {
   "cell_type": "code",
   "execution_count": 40,
   "metadata": {
    "collapsed": true
   },
   "outputs": [],
   "source": [
    "from sklearn.ensemble import RandomForestRegressor as RFR\n",
    "\n",
    "n= 400\n",
    "oob_errors = []\n",
    "\n",
    "maxd=[30]\n",
    "\n",
    "for d in maxd:\n",
    "#    rfr = RFR(n_estimators=n, criterion=\"mse\", max_depth=15, min_samples_split=2, min_samples_leaf=1,\n",
    " #                     min_weight_fraction_leaf=0.0, max_features=\"auto\", max_leaf_nodes=None, min_impurity_decrease=0.001,\n",
    "  #                    min_impurity_split=None,\n",
    "   #                   bootstrap=True, oob_score=True, n_jobs=4, random_state=1, verbose=1, warm_start=False)\n",
    "    rfr=RFR(n_estimators=n,criterion=\"mse\", max_features=0.3, min_samples_leaf=3,min_samples_split=2, max_depth=None, oob_score=True, n_jobs=4)\n",
    "    rfr.fit(x_train,y_train)\n",
    "    #y_pred = bag_reg.predict(X_test)\n",
    "    oob_errors.append(rfr.oob_score_)"
   ]
  },
  {
   "cell_type": "code",
   "execution_count": 41,
   "metadata": {},
   "outputs": [
    {
     "name": "stdout",
     "output_type": "stream",
     "text": [
      "[0.5104051400162759]\n"
     ]
    },
    {
     "data": {
      "image/png": "[encoded data removed]",
      "text/plain": [
       "<matplotlib.figure.Figure at 0x1e88c76c518>"
      ]
     },
     "metadata": {},
     "output_type": "display_data"
    }
   ],
   "source": [
    "print(oob_errors)\n",
    "# plot the results\n",
    "\n",
    "%matplotlib inline\n",
    "plt.plot(maxd,oob_errors)\n",
    "plt.xlabel(\"Number of estimators\")\n",
    "plt.ylabel(\"OOB Score\")\n",
    "plt.show()\n"
   ]
  },
  {
   "cell_type": "code",
   "execution_count": 42,
   "metadata": {},
   "outputs": [
    {
     "data": {
      "text/plain": [
       "6802.7082307887968"
      ]
     },
     "execution_count": 42,
     "metadata": {},
     "output_type": "execute_result"
    }
   ],
   "source": [
    "y_pred1=rfr.predict(x_test)\n",
    "\n",
    "import sklearn.metrics as skm\n",
    "skm.mean_squared_error(y_test, y_pred1)**0.5"
   ]
  },
  {
   "cell_type": "code",
   "execution_count": 43,
   "metadata": {
    "collapsed": true
   },
   "outputs": [],
   "source": [
    "sqe=(y_pred1-y_test)**2\n",
    "rmse=(np.mean(sqe,axis=0))**0.5/y_test.mean(axis=0)"
   ]
  },
  {
   "cell_type": "code",
   "execution_count": 44,
   "metadata": {},
   "outputs": [
    {
     "data": {
      "text/plain": [
       "KWH              4794.906578\n",
       "KWHSPH            813.777041\n",
       "KWHCOL           1224.992950\n",
       "KWHWTH            968.275179\n",
       "KWHRFG            692.140634\n",
       "KWHOTH           3084.619423\n",
       "BTUEL           16360.220609\n",
       "BTUELSPH         2776.609665\n",
       "BTUELCOL         4179.672130\n",
       "BTUELWTH         3303.754276\n",
       "BTUELRFG         2361.582139\n",
       "BTUELOTH        10524.722766\n",
       "DOLLAREL          733.237161\n",
       "DOLELSPH           91.277604\n",
       "DOLELCOL          164.732219\n",
       "DOLELWTH          110.365660\n",
       "DOLELRFG          112.761729\n",
       "DOLELOTH          502.977418\n",
       "CUFEETNG          210.138435\n",
       "CUFEETNGSPH       147.541715\n",
       "CUFEETNGWTH        81.879013\n",
       "CUFEETNGOTH        87.858744\n",
       "BTUNG           21539.196775\n",
       "BTUNGSPH        15123.028443\n",
       "BTUNGWTH         8392.609932\n",
       "BTUNGOTH         9005.524640\n",
       "DOLLARNG          263.512744\n",
       "DOLNGSPH          182.354189\n",
       "DOLNGWTH          104.170490\n",
       "DOLNGOTH          103.227151\n",
       "                    ...     \n",
       "DOLLARFO          185.185389\n",
       "DOLFOSPH          172.506233\n",
       "DOLFOWTH           63.949741\n",
       "DOLFOOTH           38.562792\n",
       "GALLONKER           9.469931\n",
       "GALLONKERSPH        9.554473\n",
       "GALLONKERWTH        0.447027\n",
       "GALLONKEROTH        0.950129\n",
       "BTUKER           1277.415197\n",
       "BTUKERSPH        1288.815393\n",
       "BTUKERWTH          60.341516\n",
       "BTUKEROTH         128.323646\n",
       "DOLLARKER          21.986457\n",
       "DOLKERSPH          22.161353\n",
       "DOLKERWTH           1.105463\n",
       "DOLKEROTH           2.427275\n",
       "BTUWOOD         19040.688640\n",
       "CORDSWD             0.952034\n",
       "TOTALBTU        30978.637890\n",
       "TOTALBTUSPH     18827.607132\n",
       "TOTALBTUCOL      4179.675524\n",
       "TOTALBTUWTH      9402.054292\n",
       "TOTALBTURFG      2361.580365\n",
       "TOTALBTUOTH     15270.731924\n",
       "TOTALDOL          852.937077\n",
       "TOTALDOLSPH       286.717938\n",
       "TOTALDOLCOL       164.721808\n",
       "TOTALDOLWTH       153.100339\n",
       "TOTALDOLRFG       112.762489\n",
       "TOTALDOLOTH       541.128799\n",
       "Length: 80, dtype: float64"
      ]
     },
     "execution_count": 44,
     "metadata": {},
     "output_type": "execute_result"
    }
   ],
   "source": [
    "(np.mean(sqe,axis=0))**0.5"
   ]
  },
  {
   "cell_type": "code",
   "execution_count": 45,
   "metadata": {},
   "outputs": [
    {
     "data": {
      "text/plain": [
       "(0, 40000)"
      ]
     },
     "execution_count": 45,
     "metadata": {},
     "output_type": "execute_result"
    },
    {
     "data": {
      "image/png": "[encoded data removed]",
      "text/plain": [
       "<matplotlib.figure.Figure at 0x1e880500ac8>"
      ]
     },
     "metadata": {},
     "output_type": "display_data"
    }
   ],
   "source": [
    "#data0['KWH']\n",
    "plt.figure()\n",
    "plt.hist(data0['KWH'], 50, normed=1, facecolor='blue', alpha=0.5)\n",
    "plt.plot()\n",
    "plt.xlim(0,40000)"
   ]
  },
  {
   "cell_type": "code",
   "execution_count": 46,
   "metadata": {},
   "outputs": [
    {
     "data": {
      "text/plain": [
       "0.59806558866900417"
      ]
     },
     "execution_count": 46,
     "metadata": {},
     "output_type": "execute_result"
    }
   ],
   "source": [
    "skm.r2_score(y_test['KWH'],y_pred1[:,0])"
   ]
  },
  {
   "cell_type": "code",
   "execution_count": null,
   "metadata": {
    "collapsed": true
   },
   "outputs": [],
   "source": []
  },
  {
   "cell_type": "code",
   "execution_count": null,
   "metadata": {
    "collapsed": true
   },
   "outputs": [],
   "source": []
  },
  {
   "cell_type": "code",
   "execution_count": null,
   "metadata": {
    "collapsed": true
   },
   "outputs": [],
   "source": []
  },
  {
   "cell_type": "code",
   "execution_count": null,
   "metadata": {
    "collapsed": true
   },
   "outputs": [],
   "source": []
  }
 ],
 "metadata": {
  "kernelspec": {
   "display_name": "Python 3",
   "language": "python",
   "name": "python3"
  },
  "language_info": {
   "codemirror_mode": {
    "name": "ipython",
    "version": 3
   },
   "file_extension": ".py",
   "mimetype": "text/x-python",
   "name": "python",
   "nbconvert_exporter": "python",
   "pygments_lexer": "ipython3",
   "version": "3.6.3"
  }
 },
 "nbformat": 4,
 "nbformat_minor": 2
}
